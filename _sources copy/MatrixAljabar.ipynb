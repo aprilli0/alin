{
 "cells": [
  {
   "cell_type": "markdown",
   "metadata": {},
   "source": [
    "# Aljabar Matrix\n",
    "# Tidak mengerjakan tidak boleh masuk \n",
    "\n",
    "   - Berikan pengertian apa itu Aljabar matrix\n",
    "   -Buatlah Matrix A(3x3),B(2x3),C(3x2)\n",
    "   - Operasi Matrix\n",
    "      -  Penjumlahan\n",
    "      - Perkalian\n",
    "      - Pengurangan\n",
    "      - Tranpose Matrix\n",
    "   - Buat program untuk mengkalikan Matrix A dengan Matrix B tidak menggunakan '@'\n",
    "\n",
    "Pengertian Matrix: Matrix merupakan suatu kumpulan bilangan sejumlah m x n yang disusun menjadi m baris dan n kolom."
   ]
  },
  {
   "cell_type": "code",
   "execution_count": 1,
   "metadata": {},
   "outputs": [],
   "source": [
    "import numpy as np"
   ]
  },
  {
   "cell_type": "code",
   "execution_count": 2,
   "metadata": {},
   "outputs": [],
   "source": [
    "# Matrix\n",
    "a = np.array([[2,5,8],[3,2,5],[9,5,2]]) # matrix 3x3\n",
    "b = np.array([[2,9,5],[-2,3,6],[1,-2,5]]) # matrix 3x3\n",
    "c = np.array([[3,4],[-3,2],[6,9]]) # matrix 3x2\n",
    "d = np.array([[2,5,8],[2,-1,6],[8,-5,2]]) # matrix 3x3\n",
    "e = (a+b)\n",
    "f = 2*(a)\n",
    "g = a @ c"
   ]
  },
  {
   "cell_type": "code",
   "execution_count": 3,
   "metadata": {},
   "outputs": [
    {
     "name": "stdout",
     "output_type": "stream",
     "text": [
      "Matrix A 3x3: \n",
      "[[2 5 8]\n",
      " [3 2 5]\n",
      " [9 5 2]]\n",
      " Matrix B 3x3: \n",
      "[[ 2  9  5]\n",
      " [-2  3  6]\n",
      " [ 1 -2  5]]\n",
      "Matrix C 3x2: \n",
      "[[ 3  4]\n",
      " [-3  2]\n",
      " [ 6  9]]\n",
      "Matrix D 3x3: \n",
      "[[ 2  5  8]\n",
      " [ 2 -1  6]\n",
      " [ 8 -5  2]]\n"
     ]
    }
   ],
   "source": [
    "print(f\"Matrix A 3x3: \\n{a}\")\n",
    "print(f\" Matrix B 3x3: \\n{b}\")\n",
    "print(f\"Matrix C 3x2: \\n{c}\")\n",
    "print(f\"Matrix D 3x3: \\n{d}\")"
   ]
  },
  {
   "cell_type": "markdown",
   "metadata": {},
   "source": [
    "# Operasi Penjumlahan Matrix"
   ]
  },
  {
   "cell_type": "code",
   "execution_count": 4,
   "metadata": {},
   "outputs": [
    {
     "name": "stdout",
     "output_type": "stream",
     "text": [
      "Matrix E =\n",
      "[[ 4 14 13]\n",
      " [ 1  5 11]\n",
      " [10  3  7]]\n"
     ]
    }
   ],
   "source": [
    "# Matrix A+B\n",
    "e = (a+b)\n",
    "print(f\"Matrix E =\\n{e}\")"
   ]
  },
  {
   "cell_type": "markdown",
   "metadata": {},
   "source": [
    "# operasi perkalian matrix\n"
   ]
  },
  {
   "cell_type": "code",
   "execution_count": 5,
   "metadata": {},
   "outputs": [
    {
     "name": "stdout",
     "output_type": "stream",
     "text": [
      "Perkalian 2 * Matrix F =\n",
      "[[ 4 10 16]\n",
      " [ 6  4 10]\n",
      " [18 10  4]]\n"
     ]
    }
   ],
   "source": [
    "f = 2*(a)\n",
    "\n",
    "print(f\"Perkalian 2 * Matrix F =\\n{f}\")"
   ]
  },
  {
   "cell_type": "code",
   "execution_count": 6,
   "metadata": {},
   "outputs": [
    {
     "name": "stdout",
     "output_type": "stream",
     "text": [
      "Matrix G =\n",
      "[[39 90]\n",
      " [33 61]\n",
      " [24 64]]\n",
      "Ukuran Matrix = (3, 2)\n"
     ]
    }
   ],
   "source": [
    "# Matrix A x C\n",
    "g = a @ c\n",
    "print(f\"Matrix G =\\n{g}\")\n",
    "print(f\"Ukuran Matrix = {g.shape}\")"
   ]
  },
  {
   "cell_type": "markdown",
   "metadata": {},
   "source": [
    "# operasi pengurangan matrix"
   ]
  },
  {
   "cell_type": "code",
   "execution_count": 7,
   "metadata": {},
   "outputs": [
    {
     "name": "stdout",
     "output_type": "stream",
     "text": [
      "Matrix G =\n",
      "[[ 0 -4  3]\n",
      " [ 5 -1 -1]\n",
      " [ 8  7 -3]]\n"
     ]
    }
   ],
   "source": [
    "# Matrix A - B\n",
    "h  = a - b\n",
    "print(f\"Matrix G =\\n{h}\")"
   ]
  },
  {
   "cell_type": "markdown",
   "metadata": {},
   "source": [
    "# Cek Persamaan\n",
    "Matrix A(BxC) = Matrix (AxB)C"
   ]
  },
  {
   "cell_type": "code",
   "execution_count": 8,
   "metadata": {},
   "outputs": [
    {
     "data": {
      "text/plain": [
       "array([[ True,  True],\n",
       "       [ True,  True],\n",
       "       [ True,  True]])"
      ]
     },
     "execution_count": 8,
     "metadata": {},
     "output_type": "execute_result"
    }
   ],
   "source": [
    "Matrix1 = a @ (b @ c)\n",
    "Matrix2 = (a @ b) @ c\n",
    "Matrix1 == Matrix2"
   ]
  },
  {
   "cell_type": "markdown",
   "metadata": {},
   "source": [
    "Matrix c(AB) = Matrix (cA)B = Matrix A(cB)"
   ]
  },
  {
   "cell_type": "code",
   "execution_count": 9,
   "metadata": {},
   "outputs": [
    {
     "name": "stdout",
     "output_type": "stream",
     "text": [
      "[[  4  34 160]\n",
      " [ 14  46 104]\n",
      " [ 20 184 170]]\n",
      "\n",
      "[[  4  34 160]\n",
      " [ 14  46 104]\n",
      " [ 20 184 170]]\n",
      "\n",
      "[[  4  34 160]\n",
      " [ 14  46 104]\n",
      " [ 20 184 170]]\n"
     ]
    }
   ],
   "source": [
    "c = 2\n",
    "Matrix_3 = c * (a @ b)\n",
    "Matrix_4 = (c * a) @ b\n",
    "Matrix_5 = a @ (c * b)\n",
    "print(Matrix_3)\n",
    "print()\n",
    "print(Matrix_4)\n",
    "print()\n",
    "print(Matrix_5)"
   ]
  },
  {
   "cell_type": "markdown",
   "metadata": {},
   "source": [
    "# Tranpose Matrix\n",
    "\n",
    "Anggap Baris = m, Kolom = n\n",
    "\n",
    "=> C = A_trans @ A\n",
    "\n",
    "=> (n x m) @ (m x n) = n * n\n",
    "\n",
    "contoh: [2 x 3] @ [3 x 2] = [2 x 2]\n",
    "\n",
    "=> C = A @ A_trans\n",
    "\n",
    "=> (m x n) @ (n x m) = m x m\n",
    "\n",
    "contoh: [3 x 2] @ [2 x 3] = [3 x 3]"
   ]
  },
  {
   "cell_type": "code",
   "execution_count": 10,
   "metadata": {},
   "outputs": [
    {
     "name": "stdout",
     "output_type": "stream",
     "text": [
      "Matrik A sebelum di transpose=\n",
      " [[2 5 8]\n",
      " [3 2 5]\n",
      " [9 5 2]]\n",
      "\n",
      "Matrik A setelah di transpose=\n",
      " [[2 3 9]\n",
      " [5 2 5]\n",
      " [8 5 2]]\n",
      "Ordo A_transpose adalah (3, 3)\n",
      "\n",
      "Z = A_transpose x A =\n",
      " [[94 61 49]\n",
      " [61 54 60]\n",
      " [49 60 93]]\n",
      "Ordo Z adalah (3, 3)\n",
      "\n",
      "P = A_transpose x A =\n",
      " [[ 93  56  59]\n",
      " [ 56  38  47]\n",
      " [ 59  47 110]]\n",
      "Ordo P adalah (3, 3)\n"
     ]
    }
   ],
   "source": [
    "# Contoh dengan Martrix 3x3\n",
    "\n",
    "a_tran = a.transpose()\n",
    "print('Matrik A sebelum di transpose=\\n', a)\n",
    "print()\n",
    "print('Matrik A setelah di transpose=\\n',a_tran)\n",
    "print('Ordo A_transpose adalah',a_tran.shape)\n",
    "print()\n",
    "Z = a_tran @ a\n",
    "print('Z = A_transpose x A =\\n',Z)\n",
    "print('Ordo Z adalah',Z.shape)\n",
    "print()\n",
    "P=a @ a_tran\n",
    "print('P = A_transpose x A =\\n',P)\n",
    "print('Ordo P adalah',P.shape)"
   ]
  },
  {
   "cell_type": "code",
   "execution_count": 11,
   "metadata": {},
   "outputs": [
    {
     "name": "stdout",
     "output_type": "stream",
     "text": [
      "Matrix_A sebelum di transpose=\n",
      " [[-1  4  7]\n",
      " [-3  5  9]]\n",
      "\n",
      "Matrix A setelah di transpose=\n",
      " [[-1 -3]\n",
      " [ 4  5]\n",
      " [ 7  9]]\n",
      "Ordo Matrix_A_Transpose adalah (3, 2)\n",
      "\n",
      "Matrix_Z = Matrix_A_Transpose x Matrix_A =\n",
      " [[ 10 -19 -34]\n",
      " [-19  41  73]\n",
      " [-34  73 130]]\n",
      "Ordo Z adalah (3, 3)\n",
      "\n",
      "P = A_transpose x A =\n",
      " [[ 66  86]\n",
      " [ 86 115]]\n",
      "ordo Matrix P adalah (2, 2)\n"
     ]
    }
   ],
   "source": [
    "# Soal dengan Matrix 3x2\n",
    "\n",
    "Matrix_A = np.array([[-1,4,7],[-3,5,9]])\n",
    "\n",
    "Matrix_A_Trans = Matrix_A.transpose()\n",
    "print('Matrix_A sebelum di transpose=\\n', Matrix_A)\n",
    "print()\n",
    "\n",
    "print('Matrix A setelah di transpose=\\n',Matrix_A_Trans)\n",
    "print('Ordo Matrix_A_Transpose adalah',Matrix_A_Trans.shape)\n",
    "print()\n",
    "\n",
    "Matrix_Z = Matrix_A_Trans @ Matrix_A\n",
    "print('Matrix_Z = Matrix_A_Transpose x Matrix_A =\\n',Matrix_Z)\n",
    "print('Ordo Z adalah',Z.shape)\n",
    "print()\n",
    "\n",
    "Matrix_P = Matrix_A @ Matrix_A_Trans\n",
    "print('P = A_transpose x A =\\n',Matrix_P)\n",
    "print('ordo Matrix P adalah',Matrix_P.shape)"
   ]
  },
  {
   "cell_type": "markdown",
   "metadata": {},
   "source": [
    "# Program untuk mengkalikan Matrix A dengan Matrix B Secara Manual tidak menggunakan ‘@’"
   ]
  },
  {
   "cell_type": "code",
   "execution_count": 12,
   "metadata": {},
   "outputs": [
    {
     "name": "stdout",
     "output_type": "stream",
     "text": [
      " Matrix_1 = [[1, -3, 9], [3, -4, 6], [9, 4, -1]]\n",
      "\n",
      " Matrix_2 = [[1, 7, 2], [-2, 4, 9], [1, 7, 4]]\n",
      "\n",
      "Hasil perkalian Matrix_1 dan Matrix 2 = [[16, 58, 11], [17, 47, -6], [0, 72, 50]]\n",
      "\n",
      "Pembuktian untuk Matrix A @ B =\n",
      "[[ 2 17 80]\n",
      " [ 7 23 52]\n",
      " [10 92 85]]\n"
     ]
    }
   ],
   "source": [
    "Matrix_1 = [[1,-3,9],\n",
    "            [3,-4,6],\n",
    "            [9,4,-1]]\n",
    "\n",
    "Matrix_2 = [[1,7,2],\n",
    "            [-2,4,9],\n",
    "            [1,7,4]]\n",
    "\n",
    "print(f\" Matrix_1 = {Matrix_1}\")\n",
    "print()\n",
    "print(f\" Matrix_2 = {Matrix_2}\")\n",
    "\n",
    "def multiply_matrix(matrix1,matrix2):\n",
    "  result = [[0,0,0],[0,0,0],[0,0,0]] # Menginisialisasikan dulu matrix dengan semua value 0\n",
    "\n",
    "  for i in range(len(Matrix_1)):\n",
    "    for j in range(len(Matrix_2[0])):\n",
    "      for k in range(len(Matrix_2)):\n",
    "        result[i][j] += Matrix_1[i][k] * Matrix_2[k][j]\n",
    "  return result\n",
    "\n",
    "hasil = multiply_matrix(Matrix_1,Matrix_2)\n",
    "print()\n",
    "print(f\"Hasil perkalian Matrix_1 dan Matrix 2 = {hasil}\")\n",
    "print()\n",
    "print(f\"Pembuktian untuk Matrix A @ B =\\n{a @ b}\")"
   ]
  },
  {
   "cell_type": "code",
   "execution_count": 13,
   "metadata": {},
   "outputs": [
    {
     "name": "stdout",
     "output_type": "stream",
     "text": [
      " Matrix_1 = \n",
      "[[2 5 8]\n",
      " [3 2 5]\n",
      " [9 5 2]]\n",
      "\n",
      " Matrix_2 = \n",
      "[[ 2  9  5]\n",
      " [-2  3  6]\n",
      " [ 1 -2  5]]\n",
      "\n",
      "Hasil perkalian Matrix_1 dan Matrix 2 = [[2, 17, 80], [7, 23, 52], [10, 92, 85]]\n",
      "\n",
      "Pembuktian untuk Matrix A @ B =\n",
      "[[ 2 17 80]\n",
      " [ 7 23 52]\n",
      " [10 92 85]]\n"
     ]
    }
   ],
   "source": [
    "# Ini yang menggunakan numpy array\n",
    "\n",
    "print(f\" Matrix_1 = \\n{a}\")\n",
    "print()\n",
    "print(f\" Matrix_2 = \\n{b}\")\n",
    "\n",
    "def multiply_matrix(matrix1,matrix2):\n",
    "  result = [[0,0,0],[0,0,0],[0,0,0]] # Menginisialisasikan dulu matrix dengan semua value 0\n",
    "\n",
    "  for i in range(len(a)):\n",
    "    for j in range(len(b[0])):\n",
    "      for k in range(len(b)):\n",
    "        result[i][j] += a[i][k] * b[k][j]\n",
    "  return result\n",
    "\n",
    "hasil = multiply_matrix(a,b)\n",
    "print()\n",
    "print(f\"Hasil perkalian Matrix_1 dan Matrix 2 = {hasil}\")\n",
    "print()\n",
    "print(f\"Pembuktian untuk Matrix A @ B =\\n{a @ b}\")"
   ]
  }
 ],
 "metadata": {
  "kernelspec": {
   "display_name": "Python 3",
   "language": "python",
   "name": "python3"
  },
  "language_info": {
   "codemirror_mode": {
    "name": "ipython",
    "version": 3
   },
   "file_extension": ".py",
   "mimetype": "text/x-python",
   "name": "python",
   "nbconvert_exporter": "python",
   "pygments_lexer": "ipython3",
   "version": "3.10.13"
  }
 },
 "nbformat": 4,
 "nbformat_minor": 2
}
